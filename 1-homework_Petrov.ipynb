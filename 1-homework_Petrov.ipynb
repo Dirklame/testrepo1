{
 "cells": [
  {
   "cell_type": "markdown",
   "id": "e5f4c7a1-dfd5-4511-a5ae-35e98e2cbbda",
   "metadata": {},
   "source": [
    "#1 Easy\n",
    "Нужно написать функцию, которая на вход получает список из чисел, а на выходе дает список, где каждое число возведено в квадрат. Решать при помощи цикла.\n",
    "\n",
    "Попробовать на вход:\n",
    "\n",
    "1. list(range(10))\n",
    "2. list(range(100))\n",
    "3. list()"
   ]
  },
  {
   "cell_type": "code",
   "execution_count": 22,
   "id": "a196a972-9a37-4da4-85b7-bf4a57ce7e27",
   "metadata": {},
   "outputs": [
    {
     "name": "stdout",
     "output_type": "stream",
     "text": [
      "[0, 1, 4, 9, 16, 25, 36, 49, 64, 81]\n"
     ]
    }
   ],
   "source": [
    "spisok_chisel1 = range(10)\n",
    "spisok_chisel2 = range(100)\n",
    "\n",
    "def vkvadrat(chisla):\n",
    "    list = []\n",
    "    for i in chisla:\n",
    "        list.append(i**2)\n",
    "    return list\n",
    "\n",
    "new_list = vkvadrat(spisok_chisel1)\n",
    "print(new_list)"
   ]
  },
  {
   "cell_type": "markdown",
   "id": "0ab6ef78-8413-4f66-bb79-b9dd29caafa9",
   "metadata": {},
   "source": [
    "#3 list() - задача с таким условием не выполняется, так как невозможно задать нулевой список (или я чего-то не знаю)"
   ]
  },
  {
   "cell_type": "markdown",
   "id": "758401c0-8bd7-4acf-8f77-87d92de1b9d3",
   "metadata": {
    "tags": []
   },
   "source": [
    "# Normal\n",
    "Тоже самое, но на этот раз без цикла (смотрим раздел с функциями из ноутбука, который разбирали в классе). Сравнить скорость выполнения первого и второго варианта."
   ]
  },
  {
   "cell_type": "code",
   "execution_count": 44,
   "id": "c89d3cb3-705d-4457-8660-fe81fc72a6fb",
   "metadata": {},
   "outputs": [
    {
     "name": "stdout",
     "output_type": "stream",
     "text": [
      "[0, 1, 4, 9, 16, 25, 36, 49, 64, 81]\n",
      "Wall time: 0 ns\n"
     ]
    }
   ],
   "source": [
    "%%time\n",
    "\n",
    "spisok_chisel1 = range(10)\n",
    "spisok_chisel2 = range(100)\n",
    "\n",
    "def vkvadrat(chisla):\n",
    "    list = []\n",
    "    for i in chisla:\n",
    "        list.append(i**2)\n",
    "    return list\n",
    "\n",
    "new_list = vkvadrat(spisok_chisel1)\n",
    "print(new_list)\n"
   ]
  },
  {
   "cell_type": "code",
   "execution_count": 47,
   "id": "45baf34c-c018-49ff-99f6-9df2eeadd1fa",
   "metadata": {},
   "outputs": [
    {
     "name": "stdout",
     "output_type": "stream",
     "text": [
      "[0, 1, 4, 9, 16, 25, 36, 49, 64, 81]\n",
      "Wall time: 0 ns\n"
     ]
    }
   ],
   "source": [
    "%%time\n",
    "\n",
    "spisok_chisel1 = range(10)\n",
    "spisok_chisel2 = range(100)\n",
    "\n",
    "def vkvadrat(chisla):\n",
    "    test_list = [i*i for i in chisla]\n",
    "    return test_list\n",
    "\n",
    "new_list = vkvadrat(spisok_chisel1)\n",
    "print(new_list)"
   ]
  },
  {
   "cell_type": "markdown",
   "id": "edf686b7-5e61-46ed-827c-696f298ec56e",
   "metadata": {},
   "source": []
  },
  {
   "cell_type": "markdown",
   "id": "bd3fc880-85f7-4a1d-a01c-cd3ca25b1b3e",
   "metadata": {},
   "source": [
    "# Hard\n",
    "Написать функцию, которая на вход принимает список, а возвращает словарь со среднием, медианой и модой, например вот такой: {\"mean\": ..., \"median\": ..., \"mode\": ...}. На следующем занятии разберем как это сделать при помощи библиотек, а пока нужно реализовать просто по формулам.\n",
    "\n",
    "Пример:\n",
    "\n",
    "func([0, 1, 1, 10, 5, 4, 3])\n",
    "\n",
    "Должно вернуть: {\"mean\": 3.4285, \"median\": 3, \"mode\": 1}"
   ]
  },
  {
   "cell_type": "code",
   "execution_count": 42,
   "id": "ce6bd8e0-e92e-4982-911c-7dbc246a2437",
   "metadata": {},
   "outputs": [
    {
     "name": "stdout",
     "output_type": "stream",
     "text": [
      "{'mean': 3.4285714285714284, 'median': 3, 'moda': 1}\n"
     ]
    }
   ],
   "source": [
    "func = [0, 1, 1, 10, 5, 4, 3]\n",
    "\n",
    "def smm(spisok):\n",
    "    #код по поиску среднего\n",
    "    srednee = sum(spisok)/len(spisok)          #находим среднее арифметическое всеъ элементов списка\n",
    "    #код по поиску медианы\n",
    "    sorted_list = sorted(spisok)               #создаем отсортированный по возрастанию список\n",
    "    if (len(sorted_list)%2 != 0):              #проверяем, четное или нечетное количество элементов списка\n",
    "        a = (len(sorted_list)-1)/2              #если нечетное, находим номер элемента посередине\n",
    "        k = round(a)                            #округляем его до ближайшего целого, так как при делении на 2, он видимо записался во float\n",
    "        mediana = sorted_list[k]                #находим медиану            \n",
    "    else:\n",
    "        b = len(sorted_list)/2                  #находим номера элементов окружающий середину\n",
    "        b2 = len(sorted_list)/2 -1\n",
    "        k = round(b)                            #округляем их\n",
    "        k2 = round(b2)\n",
    "        mediana = (sorted_list[k] + sorted_list[k2])/2 #находим медиану\n",
    "    #код по поиску моды\n",
    "    num = 0                              #счетчик для сравнения количества повторений\n",
    "    for i in func:\n",
    "        d = 0                            #счетчик для сравнения количества повторений\n",
    "        for j in range(i+1, len(func)):  \n",
    "            if (func[i] == func [j]):    #сравниваем значение элемента, со следующим элементом\n",
    "                d +=1                    #при совпадении увеличиваем счетчик совпадений на один\n",
    "                if(d>0 and d>num):       #проверяем счетчик количества текущих совпадений, с прошлыми совпадениями\n",
    "                    num = d              #если больше, то обновляем счетчик до текущего значения\n",
    "                    moda = func[i]       #записываем в мода текущее значение элемента\n",
    "    \n",
    "    slovar = {\"mean\": srednee, \"median\": mediana, \"moda\": moda}\n",
    "    return slovar\n",
    "    \n",
    "\n",
    "chislo = smm(func)\n",
    "print(chislo)"
   ]
  },
  {
   "cell_type": "markdown",
   "id": "ef8550f6-cc67-49cb-b7b6-87fcdfe1db28",
   "metadata": {
    "tags": []
   },
   "source": [
    "Примечание, в данном коде при нахождении моды, не учитывается, что количество повторяющихся элементов будет одинаковым, мода будет принимать значение последнего повторяющегося элемента"
   ]
  }
 ],
 "metadata": {
  "kernelspec": {
   "display_name": "Python 3 (ipykernel)",
   "language": "python",
   "name": "python3"
  },
  "language_info": {
   "codemirror_mode": {
    "name": "ipython",
    "version": 3
   },
   "file_extension": ".py",
   "mimetype": "text/x-python",
   "name": "python",
   "nbconvert_exporter": "python",
   "pygments_lexer": "ipython3",
   "version": "3.9.7"
  }
 },
 "nbformat": 4,
 "nbformat_minor": 5
}
